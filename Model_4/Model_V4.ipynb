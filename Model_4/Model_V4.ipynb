{
  "nbformat": 4,
  "nbformat_minor": 0,
  "metadata": {
    "colab": {
      "provenance": [],
      "gpuType": "T4"
    },
    "kernelspec": {
      "name": "python3",
      "display_name": "Python 3"
    },
    "language_info": {
      "name": "python"
    },
    "accelerator": "GPU"
  },
  "cells": [
    {
      "cell_type": "markdown",
      "source": [
        "# Import Library"
      ],
      "metadata": {
        "id": "IWQrUpw9U5yb"
      }
    },
    {
      "cell_type": "code",
      "source": [
        "pip install --upgrade tensorflow keras"
      ],
      "metadata": {
        "id": "-LGSEdJpuSan"
      },
      "execution_count": null,
      "outputs": []
    },
    {
      "cell_type": "code",
      "execution_count": 5,
      "metadata": {
        "id": "T6Vw_PTfUoMw"
      },
      "outputs": [],
      "source": [
        "import os\n",
        "import numpy as np\n",
        "import matplotlib.pyplot as plt\n",
        "import re\n",
        "import shutil\n",
        "import cv2\n",
        "import tensorflow as tf\n",
        "import tensorflow_datasets as tfds\n",
        "import keras\n",
        "\n",
        "from PIL import Image\n",
        "from sklearn.model_selection import train_test_split\n",
        "from tensorflow.keras.preprocessing.image import ImageDataGenerator\n",
        "from keras.models import Sequential\n",
        "from keras.layers import Conv2D, MaxPooling2D, BatchNormalization, Dense, Dropout, GlobalAveragePooling2D\n",
        "from keras.regularizers import l2\n",
        "from tensorflow.keras.layers import Rescaling, RandomFlip, RandomRotation, RandomZoom, RandomContrast, RandomTranslation, RandomBrightness\n",
        "from keras.utils import plot_model\n",
        "from matplotlib import pyplot as plt\n",
        "from tensorflow.keras.applications import MobileNetV2\n",
        "from tensorflow.keras.utils import to_categorical\n",
        "from tensorflow.keras.preprocessing import image, image_dataset_from_directory\n",
        "from tensorflow.keras.applications.mobilenet import preprocess_input"
      ]
    },
    {
      "cell_type": "markdown",
      "source": [
        "# EDA"
      ],
      "metadata": {
        "id": "v_yvB0IcU2hk"
      }
    },
    {
      "cell_type": "markdown",
      "source": [
        "#### Load Dataset"
      ],
      "metadata": {
        "id": "-LvZ6nJi3s2H"
      }
    },
    {
      "cell_type": "code",
      "source": [
        "from google.colab import drive\n",
        "drive.mount('/content/drive')"
      ],
      "metadata": {
        "colab": {
          "base_uri": "https://localhost:8080/"
        },
        "id": "3CBCs5OyONao",
        "outputId": "43e8bd6a-b790-4c80-d792-34c2cc6fc179"
      },
      "execution_count": 2,
      "outputs": [
        {
          "output_type": "stream",
          "name": "stdout",
          "text": [
            "Mounted at /content/drive\n"
          ]
        }
      ]
    },
    {
      "cell_type": "code",
      "source": [
        "train_dir = '/content/drive/MyDrive/Dataset_Capstone/faceshape_grey/train'\n",
        "\n",
        "test_dir = '/content/drive/MyDrive/Dataset_Capstone/faceshape_grey/test'\n",
        "\n",
        "val_dir = '/content/drive/MyDrive/Dataset_Capstone/faceshape_grey/validation'"
      ],
      "metadata": {
        "id": "kpUiitJlbGD5"
      },
      "execution_count": 3,
      "outputs": []
    },
    {
      "cell_type": "code",
      "source": [
        "from collections import Counter\n",
        "\n",
        "def check_distribution(dir_path):\n",
        "    class_counts = Counter()\n",
        "    for class_name in os.listdir(dir_path):\n",
        "        class_dir = os.path.join(dir_path, class_name)\n",
        "        if os.path.isdir(class_dir):\n",
        "            class_counts[class_name] = len(os.listdir(class_dir))\n",
        "    return class_counts\n",
        "\n",
        "print(\"Distribusi data di folder train:\", check_distribution(train_dir))\n",
        "print(\"Distribusi data di folder validation:\", check_distribution(val_dir))\n",
        "print(\"Distribusi data di folder test baru:\", check_distribution(test_dir))"
      ],
      "metadata": {
        "colab": {
          "base_uri": "https://localhost:8080/"
        },
        "id": "jo_rUqrQakkt",
        "outputId": "1aa9c9f9-85ec-436e-b4d5-c82e5b10611e"
      },
      "execution_count": 6,
      "outputs": [
        {
          "output_type": "stream",
          "name": "stdout",
          "text": [
            "Distribusi data di folder train: Counter({'Square': 799, 'Heart': 798, 'Oblong': 798, 'Oval': 797, 'Round': 789})\n",
            "Distribusi data di folder validation: Counter({'Heart': 100, 'Oblong': 100, 'Square': 100, 'Round': 99, 'Oval': 99})\n",
            "Distribusi data di folder test baru: Counter({'Round': 100, 'Heart': 100, 'Oval': 100, 'Oblong': 100, 'Square': 100})\n"
          ]
        }
      ]
    },
    {
      "cell_type": "code",
      "source": [
        "class_names = ['Oblong', 'Heart', 'Round', 'Square', 'Oval']"
      ],
      "metadata": {
        "id": "zUjDseajUSI5"
      },
      "execution_count": 7,
      "outputs": []
    },
    {
      "cell_type": "code",
      "source": [
        "def create_datasets():\n",
        "    train_ds = tf.keras.utils.image_dataset_from_directory(\n",
        "        train_dir,\n",
        "        seed=0,\n",
        "        batch_size=32,\n",
        "        label_mode='categorical',\n",
        "        image_size=(224, 224),\n",
        "        shuffle=True\n",
        "    )\n",
        "\n",
        "    validation_ds = tf.keras.utils.image_dataset_from_directory(\n",
        "        val_dir,\n",
        "        seed=0,\n",
        "        batch_size=32,\n",
        "        label_mode='categorical',\n",
        "        image_size=(224, 224),\n",
        "        shuffle=False\n",
        "    )\n",
        "\n",
        "    test_ds = tf.keras.utils.image_dataset_from_directory(\n",
        "        test_dir,\n",
        "        seed=0,\n",
        "        batch_size=32,\n",
        "        label_mode='categorical',\n",
        "        image_size=(224, 224),\n",
        "        shuffle=False\n",
        "    )\n",
        "\n",
        "    return train_ds, validation_ds, test_ds"
      ],
      "metadata": {
        "id": "pXlAkb6mtWqb"
      },
      "execution_count": 8,
      "outputs": []
    },
    {
      "cell_type": "code",
      "source": [
        "# Create datasets with or without data augmentation\n",
        "train_ds, validation_ds, test_ds = create_datasets()"
      ],
      "metadata": {
        "colab": {
          "base_uri": "https://localhost:8080/"
        },
        "id": "ekbxLUC8t6oQ",
        "outputId": "2c345a01-b9a5-4e97-96b0-d0a92d4c44f2"
      },
      "execution_count": 9,
      "outputs": [
        {
          "output_type": "stream",
          "name": "stdout",
          "text": [
            "Found 3981 files belonging to 5 classes.\n",
            "Found 498 files belonging to 5 classes.\n",
            "Found 500 files belonging to 5 classes.\n"
          ]
        }
      ]
    },
    {
      "cell_type": "code",
      "source": [
        "# from tensorflow.keras.applications.vgg16 import VGG16\n",
        "\n",
        "IMG_SHAPE = (224, 224, 3)\n",
        "\n",
        "base_model = MobileNetV2(\n",
        "    weights='imagenet',\n",
        "    include_top=False,\n",
        "    input_shape=IMG_SHAPE\n",
        ")\n",
        "\n",
        "tuning_layer_name = 'block_14_expand'\n",
        "tuning_layer = base_model.get_layer(tuning_layer_name)\n",
        "tuning_index = base_model.layers.index(tuning_layer)\n",
        "\n",
        "# Membekukan semua layer sebelum tuning_layer\n",
        "for layer in base_model.layers[:tuning_index]:\n",
        "    layer.trainable = False\n",
        "\n",
        "\n",
        "# base_model = VGG16(input_shape=IMG_SHAPE,\n",
        "#                    include_top=False,\n",
        "#                    weights='imagenet')\n",
        "\n",
        "# for layer in base_model.layers:\n",
        "#   layer.trainable = False\n",
        "\n",
        "# Layer augmentasi\n",
        "data_augmentation = tf.keras.Sequential([\n",
        "    Rescaling(1./255),\n",
        "    RandomFlip(\"horizontal\"),\n",
        "    RandomRotation(0.1),\n",
        "    RandomZoom(0.2),\n",
        "    RandomContrast(0.3),\n",
        "    RandomTranslation(0.1, 0.1),\n",
        "], name='data_augmentation')"
      ],
      "metadata": {
        "id": "Vd0B_J-_qCaX",
        "colab": {
          "base_uri": "https://localhost:8080/"
        },
        "outputId": "20acb41c-8469-4676-8012-43841fe51eec"
      },
      "execution_count": 10,
      "outputs": [
        {
          "output_type": "stream",
          "name": "stdout",
          "text": [
            "Downloading data from https://storage.googleapis.com/tensorflow/keras-applications/mobilenet_v2/mobilenet_v2_weights_tf_dim_ordering_tf_kernels_1.0_224_no_top.h5\n",
            "\u001b[1m9406464/9406464\u001b[0m \u001b[32m━━━━━━━━━━━━━━━━━━━━\u001b[0m\u001b[37m\u001b[0m \u001b[1m0s\u001b[0m 0us/step\n"
          ]
        }
      ]
    },
    {
      "cell_type": "code",
      "source": [
        "for i, layer in enumerate(base_model.layers):\n",
        "    print(i, layer.name)"
      ],
      "metadata": {
        "id": "HihiUcFHIL2i"
      },
      "execution_count": null,
      "outputs": []
    },
    {
      "cell_type": "code",
      "source": [
        "model = Sequential([\n",
        "    data_augmentation,\n",
        "    base_model,\n",
        "    GlobalAveragePooling2D(),\n",
        "    Dense(256, activation='relu', kernel_regularizer=l2(0.01)),\n",
        "    Dropout(0.5),\n",
        "    Dropout(0.3),\n",
        "    Dropout(0.2),\n",
        "    Dense(len(class_names), activation='softmax')\n",
        "])\n",
        "\n",
        "model.summary()"
      ],
      "metadata": {
        "colab": {
          "base_uri": "https://localhost:8080/",
          "height": 417
        },
        "id": "rDom_IwgwILj",
        "outputId": "4b59dff1-d645-4d02-ee76-434b1a1b5993"
      },
      "execution_count": 37,
      "outputs": [
        {
          "output_type": "display_data",
          "data": {
            "text/plain": [
              "\u001b[1mModel: \"sequential_5\"\u001b[0m\n"
            ],
            "text/html": [
              "<pre style=\"white-space:pre;overflow-x:auto;line-height:normal;font-family:Menlo,'DejaVu Sans Mono',consolas,'Courier New',monospace\"><span style=\"font-weight: bold\">Model: \"sequential_5\"</span>\n",
              "</pre>\n"
            ]
          },
          "metadata": {}
        },
        {
          "output_type": "display_data",
          "data": {
            "text/plain": [
              "┏━━━━━━━━━━━━━━━━━━━━━━━━━━━━━━━━━━━━━━┳━━━━━━━━━━━━━━━━━━━━━━━━━━━━━┳━━━━━━━━━━━━━━━━━┓\n",
              "┃\u001b[1m \u001b[0m\u001b[1mLayer (type)                        \u001b[0m\u001b[1m \u001b[0m┃\u001b[1m \u001b[0m\u001b[1mOutput Shape               \u001b[0m\u001b[1m \u001b[0m┃\u001b[1m \u001b[0m\u001b[1m        Param #\u001b[0m\u001b[1m \u001b[0m┃\n",
              "┡━━━━━━━━━━━━━━━━━━━━━━━━━━━━━━━━━━━━━━╇━━━━━━━━━━━━━━━━━━━━━━━━━━━━━╇━━━━━━━━━━━━━━━━━┩\n",
              "│ data_augmentation (\u001b[38;5;33mSequential\u001b[0m)       │ (\u001b[38;5;45mNone\u001b[0m, \u001b[38;5;34m224\u001b[0m, \u001b[38;5;34m224\u001b[0m, \u001b[38;5;34m3\u001b[0m)         │               \u001b[38;5;34m0\u001b[0m │\n",
              "├──────────────────────────────────────┼─────────────────────────────┼─────────────────┤\n",
              "│ mobilenetv2_1.00_224 (\u001b[38;5;33mFunctional\u001b[0m)    │ (\u001b[38;5;45mNone\u001b[0m, \u001b[38;5;34m7\u001b[0m, \u001b[38;5;34m7\u001b[0m, \u001b[38;5;34m1280\u001b[0m)          │       \u001b[38;5;34m2,257,984\u001b[0m │\n",
              "├──────────────────────────────────────┼─────────────────────────────┼─────────────────┤\n",
              "│ global_average_pooling2d_5           │ (\u001b[38;5;45mNone\u001b[0m, \u001b[38;5;34m1280\u001b[0m)                │               \u001b[38;5;34m0\u001b[0m │\n",
              "│ (\u001b[38;5;33mGlobalAveragePooling2D\u001b[0m)             │                             │                 │\n",
              "├──────────────────────────────────────┼─────────────────────────────┼─────────────────┤\n",
              "│ dense_10 (\u001b[38;5;33mDense\u001b[0m)                     │ (\u001b[38;5;45mNone\u001b[0m, \u001b[38;5;34m256\u001b[0m)                 │         \u001b[38;5;34m327,936\u001b[0m │\n",
              "├──────────────────────────────────────┼─────────────────────────────┼─────────────────┤\n",
              "│ dropout_15 (\u001b[38;5;33mDropout\u001b[0m)                 │ (\u001b[38;5;45mNone\u001b[0m, \u001b[38;5;34m256\u001b[0m)                 │               \u001b[38;5;34m0\u001b[0m │\n",
              "├──────────────────────────────────────┼─────────────────────────────┼─────────────────┤\n",
              "│ dropout_16 (\u001b[38;5;33mDropout\u001b[0m)                 │ (\u001b[38;5;45mNone\u001b[0m, \u001b[38;5;34m256\u001b[0m)                 │               \u001b[38;5;34m0\u001b[0m │\n",
              "├──────────────────────────────────────┼─────────────────────────────┼─────────────────┤\n",
              "│ dropout_17 (\u001b[38;5;33mDropout\u001b[0m)                 │ (\u001b[38;5;45mNone\u001b[0m, \u001b[38;5;34m256\u001b[0m)                 │               \u001b[38;5;34m0\u001b[0m │\n",
              "├──────────────────────────────────────┼─────────────────────────────┼─────────────────┤\n",
              "│ dense_11 (\u001b[38;5;33mDense\u001b[0m)                     │ (\u001b[38;5;45mNone\u001b[0m, \u001b[38;5;34m5\u001b[0m)                   │           \u001b[38;5;34m1,285\u001b[0m │\n",
              "└──────────────────────────────────────┴─────────────────────────────┴─────────────────┘\n"
            ],
            "text/html": [
              "<pre style=\"white-space:pre;overflow-x:auto;line-height:normal;font-family:Menlo,'DejaVu Sans Mono',consolas,'Courier New',monospace\">┏━━━━━━━━━━━━━━━━━━━━━━━━━━━━━━━━━━━━━━┳━━━━━━━━━━━━━━━━━━━━━━━━━━━━━┳━━━━━━━━━━━━━━━━━┓\n",
              "┃<span style=\"font-weight: bold\"> Layer (type)                         </span>┃<span style=\"font-weight: bold\"> Output Shape                </span>┃<span style=\"font-weight: bold\">         Param # </span>┃\n",
              "┡━━━━━━━━━━━━━━━━━━━━━━━━━━━━━━━━━━━━━━╇━━━━━━━━━━━━━━━━━━━━━━━━━━━━━╇━━━━━━━━━━━━━━━━━┩\n",
              "│ data_augmentation (<span style=\"color: #0087ff; text-decoration-color: #0087ff\">Sequential</span>)       │ (<span style=\"color: #00d7ff; text-decoration-color: #00d7ff\">None</span>, <span style=\"color: #00af00; text-decoration-color: #00af00\">224</span>, <span style=\"color: #00af00; text-decoration-color: #00af00\">224</span>, <span style=\"color: #00af00; text-decoration-color: #00af00\">3</span>)         │               <span style=\"color: #00af00; text-decoration-color: #00af00\">0</span> │\n",
              "├──────────────────────────────────────┼─────────────────────────────┼─────────────────┤\n",
              "│ mobilenetv2_1.00_224 (<span style=\"color: #0087ff; text-decoration-color: #0087ff\">Functional</span>)    │ (<span style=\"color: #00d7ff; text-decoration-color: #00d7ff\">None</span>, <span style=\"color: #00af00; text-decoration-color: #00af00\">7</span>, <span style=\"color: #00af00; text-decoration-color: #00af00\">7</span>, <span style=\"color: #00af00; text-decoration-color: #00af00\">1280</span>)          │       <span style=\"color: #00af00; text-decoration-color: #00af00\">2,257,984</span> │\n",
              "├──────────────────────────────────────┼─────────────────────────────┼─────────────────┤\n",
              "│ global_average_pooling2d_5           │ (<span style=\"color: #00d7ff; text-decoration-color: #00d7ff\">None</span>, <span style=\"color: #00af00; text-decoration-color: #00af00\">1280</span>)                │               <span style=\"color: #00af00; text-decoration-color: #00af00\">0</span> │\n",
              "│ (<span style=\"color: #0087ff; text-decoration-color: #0087ff\">GlobalAveragePooling2D</span>)             │                             │                 │\n",
              "├──────────────────────────────────────┼─────────────────────────────┼─────────────────┤\n",
              "│ dense_10 (<span style=\"color: #0087ff; text-decoration-color: #0087ff\">Dense</span>)                     │ (<span style=\"color: #00d7ff; text-decoration-color: #00d7ff\">None</span>, <span style=\"color: #00af00; text-decoration-color: #00af00\">256</span>)                 │         <span style=\"color: #00af00; text-decoration-color: #00af00\">327,936</span> │\n",
              "├──────────────────────────────────────┼─────────────────────────────┼─────────────────┤\n",
              "│ dropout_15 (<span style=\"color: #0087ff; text-decoration-color: #0087ff\">Dropout</span>)                 │ (<span style=\"color: #00d7ff; text-decoration-color: #00d7ff\">None</span>, <span style=\"color: #00af00; text-decoration-color: #00af00\">256</span>)                 │               <span style=\"color: #00af00; text-decoration-color: #00af00\">0</span> │\n",
              "├──────────────────────────────────────┼─────────────────────────────┼─────────────────┤\n",
              "│ dropout_16 (<span style=\"color: #0087ff; text-decoration-color: #0087ff\">Dropout</span>)                 │ (<span style=\"color: #00d7ff; text-decoration-color: #00d7ff\">None</span>, <span style=\"color: #00af00; text-decoration-color: #00af00\">256</span>)                 │               <span style=\"color: #00af00; text-decoration-color: #00af00\">0</span> │\n",
              "├──────────────────────────────────────┼─────────────────────────────┼─────────────────┤\n",
              "│ dropout_17 (<span style=\"color: #0087ff; text-decoration-color: #0087ff\">Dropout</span>)                 │ (<span style=\"color: #00d7ff; text-decoration-color: #00d7ff\">None</span>, <span style=\"color: #00af00; text-decoration-color: #00af00\">256</span>)                 │               <span style=\"color: #00af00; text-decoration-color: #00af00\">0</span> │\n",
              "├──────────────────────────────────────┼─────────────────────────────┼─────────────────┤\n",
              "│ dense_11 (<span style=\"color: #0087ff; text-decoration-color: #0087ff\">Dense</span>)                     │ (<span style=\"color: #00d7ff; text-decoration-color: #00d7ff\">None</span>, <span style=\"color: #00af00; text-decoration-color: #00af00\">5</span>)                   │           <span style=\"color: #00af00; text-decoration-color: #00af00\">1,285</span> │\n",
              "└──────────────────────────────────────┴─────────────────────────────┴─────────────────┘\n",
              "</pre>\n"
            ]
          },
          "metadata": {}
        },
        {
          "output_type": "display_data",
          "data": {
            "text/plain": [
              "\u001b[1m Total params: \u001b[0m\u001b[38;5;34m2,587,205\u001b[0m (9.87 MB)\n"
            ],
            "text/html": [
              "<pre style=\"white-space:pre;overflow-x:auto;line-height:normal;font-family:Menlo,'DejaVu Sans Mono',consolas,'Courier New',monospace\"><span style=\"font-weight: bold\"> Total params: </span><span style=\"color: #00af00; text-decoration-color: #00af00\">2,587,205</span> (9.87 MB)\n",
              "</pre>\n"
            ]
          },
          "metadata": {}
        },
        {
          "output_type": "display_data",
          "data": {
            "text/plain": [
              "\u001b[1m Trainable params: \u001b[0m\u001b[38;5;34m1,855,301\u001b[0m (7.08 MB)\n"
            ],
            "text/html": [
              "<pre style=\"white-space:pre;overflow-x:auto;line-height:normal;font-family:Menlo,'DejaVu Sans Mono',consolas,'Courier New',monospace\"><span style=\"font-weight: bold\"> Trainable params: </span><span style=\"color: #00af00; text-decoration-color: #00af00\">1,855,301</span> (7.08 MB)\n",
              "</pre>\n"
            ]
          },
          "metadata": {}
        },
        {
          "output_type": "display_data",
          "data": {
            "text/plain": [
              "\u001b[1m Non-trainable params: \u001b[0m\u001b[38;5;34m731,904\u001b[0m (2.79 MB)\n"
            ],
            "text/html": [
              "<pre style=\"white-space:pre;overflow-x:auto;line-height:normal;font-family:Menlo,'DejaVu Sans Mono',consolas,'Courier New',monospace\"><span style=\"font-weight: bold\"> Non-trainable params: </span><span style=\"color: #00af00; text-decoration-color: #00af00\">731,904</span> (2.79 MB)\n",
              "</pre>\n"
            ]
          },
          "metadata": {}
        }
      ]
    },
    {
      "cell_type": "code",
      "source": [
        "learning_rate = 0.0001\n",
        "\n",
        "model.compile(\n",
        "    loss='categorical_crossentropy',\n",
        "    optimizer=tf.keras.optimizers.Adam(learning_rate=learning_rate),\n",
        "    metrics=['accuracy']\n",
        ")\n",
        "\n",
        "class EarlyStoppingCallback(tf.keras.callbacks.Callback):\n",
        "    def on_epoch_end(self, epoch, logs=None):\n",
        "        if logs['accuracy']>1.0:\n",
        "            self.model.stop_training = True\n",
        "            print(\"\\nReached 100% accuracy so cancelling training!\")\n",
        "\n",
        "early_stopping_callback = EarlyStoppingCallback()"
      ],
      "metadata": {
        "id": "C8YJuje7ViHn"
      },
      "execution_count": 38,
      "outputs": []
    },
    {
      "cell_type": "code",
      "source": [
        "history = model.fit(\n",
        "    train_ds,\n",
        "    epochs=70,\n",
        "    verbose=1,\n",
        "    validation_data=validation_ds,\n",
        "    callbacks=[early_stopping_callback]\n",
        ")"
      ],
      "metadata": {
        "colab": {
          "base_uri": "https://localhost:8080/"
        },
        "id": "ctymyXrZVhMS",
        "outputId": "0bdd6e3c-c0eb-4079-de2b-fbac2f9cd4da"
      },
      "execution_count": 39,
      "outputs": [
        {
          "output_type": "stream",
          "name": "stdout",
          "text": [
            "Epoch 1/70\n",
            "\u001b[1m125/125\u001b[0m \u001b[32m━━━━━━━━━━━━━━━━━━━━\u001b[0m\u001b[37m\u001b[0m \u001b[1m29s\u001b[0m 160ms/step - accuracy: 0.7893 - loss: 4.6330 - val_accuracy: 0.7470 - val_loss: 4.2341\n",
            "Epoch 2/70\n",
            "\u001b[1m125/125\u001b[0m \u001b[32m━━━━━━━━━━━━━━━━━━━━\u001b[0m\u001b[37m\u001b[0m \u001b[1m20s\u001b[0m 158ms/step - accuracy: 0.9705 - loss: 3.2161 - val_accuracy: 0.7269 - val_loss: 3.7328\n",
            "Epoch 3/70\n",
            "\u001b[1m125/125\u001b[0m \u001b[32m━━━━━━━━━━━━━━━━━━━━\u001b[0m\u001b[37m\u001b[0m \u001b[1m19s\u001b[0m 151ms/step - accuracy: 0.9700 - loss: 2.5214 - val_accuracy: 0.6928 - val_loss: 3.3790\n",
            "Epoch 4/70\n",
            "\u001b[1m125/125\u001b[0m \u001b[32m━━━━━━━━━━━━━━━━━━━━\u001b[0m\u001b[37m\u001b[0m \u001b[1m18s\u001b[0m 146ms/step - accuracy: 0.9679 - loss: 2.0276 - val_accuracy: 0.7269 - val_loss: 2.8065\n",
            "Epoch 5/70\n",
            "\u001b[1m125/125\u001b[0m \u001b[32m━━━━━━━━━━━━━━━━━━━━\u001b[0m\u001b[37m\u001b[0m \u001b[1m18s\u001b[0m 146ms/step - accuracy: 0.9736 - loss: 1.6543 - val_accuracy: 0.7349 - val_loss: 2.5490\n",
            "Epoch 6/70\n",
            "\u001b[1m125/125\u001b[0m \u001b[32m━━━━━━━━━━━━━━━━━━━━\u001b[0m\u001b[37m\u001b[0m \u001b[1m20s\u001b[0m 144ms/step - accuracy: 0.9740 - loss: 1.3734 - val_accuracy: 0.7269 - val_loss: 2.3742\n",
            "Epoch 7/70\n",
            "\u001b[1m125/125\u001b[0m \u001b[32m━━━━━━━━━━━━━━━━━━━━\u001b[0m\u001b[37m\u001b[0m \u001b[1m20s\u001b[0m 138ms/step - accuracy: 0.9741 - loss: 1.1501 - val_accuracy: 0.7470 - val_loss: 2.0604\n",
            "Epoch 8/70\n",
            "\u001b[1m125/125\u001b[0m \u001b[32m━━━━━━━━━━━━━━━━━━━━\u001b[0m\u001b[37m\u001b[0m \u001b[1m17s\u001b[0m 138ms/step - accuracy: 0.9645 - loss: 1.0124 - val_accuracy: 0.7550 - val_loss: 1.9058\n",
            "Epoch 9/70\n",
            "\u001b[1m125/125\u001b[0m \u001b[32m━━━━━━━━━━━━━━━━━━━━\u001b[0m\u001b[37m\u001b[0m \u001b[1m21s\u001b[0m 146ms/step - accuracy: 0.9736 - loss: 0.8398 - val_accuracy: 0.7209 - val_loss: 1.7271\n",
            "Epoch 10/70\n",
            "\u001b[1m125/125\u001b[0m \u001b[32m━━━━━━━━━━━━━━━━━━━━\u001b[0m\u001b[37m\u001b[0m \u001b[1m19s\u001b[0m 148ms/step - accuracy: 0.9709 - loss: 0.7292 - val_accuracy: 0.7129 - val_loss: 1.8884\n",
            "Epoch 11/70\n",
            "\u001b[1m125/125\u001b[0m \u001b[32m━━━━━━━━━━━━━━━━━━━━\u001b[0m\u001b[37m\u001b[0m \u001b[1m18s\u001b[0m 146ms/step - accuracy: 0.9722 - loss: 0.6422 - val_accuracy: 0.7410 - val_loss: 1.5760\n",
            "Epoch 12/70\n",
            "\u001b[1m125/125\u001b[0m \u001b[32m━━━━━━━━━━━━━━━━━━━━\u001b[0m\u001b[37m\u001b[0m \u001b[1m19s\u001b[0m 154ms/step - accuracy: 0.9730 - loss: 0.5517 - val_accuracy: 0.7590 - val_loss: 1.4782\n",
            "Epoch 13/70\n",
            "\u001b[1m125/125\u001b[0m \u001b[32m━━━━━━━━━━━━━━━━━━━━\u001b[0m\u001b[37m\u001b[0m \u001b[1m20s\u001b[0m 154ms/step - accuracy: 0.9744 - loss: 0.4659 - val_accuracy: 0.7490 - val_loss: 1.6315\n",
            "Epoch 14/70\n",
            "\u001b[1m125/125\u001b[0m \u001b[32m━━━━━━━━━━━━━━━━━━━━\u001b[0m\u001b[37m\u001b[0m \u001b[1m19s\u001b[0m 149ms/step - accuracy: 0.9723 - loss: 0.4269 - val_accuracy: 0.7590 - val_loss: 1.3834\n",
            "Epoch 15/70\n",
            "\u001b[1m125/125\u001b[0m \u001b[32m━━━━━━━━━━━━━━━━━━━━\u001b[0m\u001b[37m\u001b[0m \u001b[1m21s\u001b[0m 154ms/step - accuracy: 0.9755 - loss: 0.3744 - val_accuracy: 0.7189 - val_loss: 1.6796\n",
            "Epoch 16/70\n",
            "\u001b[1m125/125\u001b[0m \u001b[32m━━━━━━━━━━━━━━━━━━━━\u001b[0m\u001b[37m\u001b[0m \u001b[1m18s\u001b[0m 147ms/step - accuracy: 0.9695 - loss: 0.3677 - val_accuracy: 0.6707 - val_loss: 1.9423\n",
            "Epoch 17/70\n",
            "\u001b[1m125/125\u001b[0m \u001b[32m━━━━━━━━━━━━━━━━━━━━\u001b[0m\u001b[37m\u001b[0m \u001b[1m19s\u001b[0m 154ms/step - accuracy: 0.9768 - loss: 0.2995 - val_accuracy: 0.7028 - val_loss: 1.6792\n",
            "Epoch 18/70\n",
            "\u001b[1m125/125\u001b[0m \u001b[32m━━━━━━━━━━━━━━━━━━━━\u001b[0m\u001b[37m\u001b[0m \u001b[1m19s\u001b[0m 143ms/step - accuracy: 0.9616 - loss: 0.3099 - val_accuracy: 0.7169 - val_loss: 1.4684\n",
            "Epoch 19/70\n",
            "\u001b[1m125/125\u001b[0m \u001b[32m━━━━━━━━━━━━━━━━━━━━\u001b[0m\u001b[37m\u001b[0m \u001b[1m21s\u001b[0m 148ms/step - accuracy: 0.9716 - loss: 0.2552 - val_accuracy: 0.7008 - val_loss: 1.5106\n",
            "Epoch 20/70\n",
            "\u001b[1m125/125\u001b[0m \u001b[32m━━━━━━━━━━━━━━━━━━━━\u001b[0m\u001b[37m\u001b[0m \u001b[1m20s\u001b[0m 158ms/step - accuracy: 0.9789 - loss: 0.2179 - val_accuracy: 0.7028 - val_loss: 1.6537\n",
            "Epoch 21/70\n",
            "\u001b[1m125/125\u001b[0m \u001b[32m━━━━━━━━━━━━━━━━━━━━\u001b[0m\u001b[37m\u001b[0m \u001b[1m18s\u001b[0m 139ms/step - accuracy: 0.9735 - loss: 0.2135 - val_accuracy: 0.6968 - val_loss: 1.5254\n",
            "Epoch 22/70\n",
            "\u001b[1m125/125\u001b[0m \u001b[32m━━━━━━━━━━━━━━━━━━━━\u001b[0m\u001b[37m\u001b[0m \u001b[1m21s\u001b[0m 147ms/step - accuracy: 0.9734 - loss: 0.2099 - val_accuracy: 0.7510 - val_loss: 1.2484\n",
            "Epoch 23/70\n",
            "\u001b[1m125/125\u001b[0m \u001b[32m━━━━━━━━━━━━━━━━━━━━\u001b[0m\u001b[37m\u001b[0m \u001b[1m19s\u001b[0m 148ms/step - accuracy: 0.9708 - loss: 0.1910 - val_accuracy: 0.7169 - val_loss: 1.3400\n",
            "Epoch 24/70\n",
            "\u001b[1m125/125\u001b[0m \u001b[32m━━━━━━━━━━━━━━━━━━━━\u001b[0m\u001b[37m\u001b[0m \u001b[1m19s\u001b[0m 151ms/step - accuracy: 0.9800 - loss: 0.1476 - val_accuracy: 0.7028 - val_loss: 1.4812\n",
            "Epoch 25/70\n",
            "\u001b[1m125/125\u001b[0m \u001b[32m━━━━━━━━━━━━━━━━━━━━\u001b[0m\u001b[37m\u001b[0m \u001b[1m20s\u001b[0m 157ms/step - accuracy: 0.9804 - loss: 0.1356 - val_accuracy: 0.7349 - val_loss: 1.2148\n",
            "Epoch 26/70\n",
            "\u001b[1m125/125\u001b[0m \u001b[32m━━━━━━━━━━━━━━━━━━━━\u001b[0m\u001b[37m\u001b[0m \u001b[1m18s\u001b[0m 145ms/step - accuracy: 0.9743 - loss: 0.1563 - val_accuracy: 0.7349 - val_loss: 1.2838\n",
            "Epoch 27/70\n",
            "\u001b[1m125/125\u001b[0m \u001b[32m━━━━━━━━━━━━━━━━━━━━\u001b[0m\u001b[37m\u001b[0m \u001b[1m18s\u001b[0m 140ms/step - accuracy: 0.9806 - loss: 0.1324 - val_accuracy: 0.7470 - val_loss: 1.1907\n",
            "Epoch 28/70\n",
            "\u001b[1m125/125\u001b[0m \u001b[32m━━━━━━━━━━━━━━━━━━━━\u001b[0m\u001b[37m\u001b[0m \u001b[1m18s\u001b[0m 144ms/step - accuracy: 0.9768 - loss: 0.1387 - val_accuracy: 0.7510 - val_loss: 1.1106\n",
            "Epoch 29/70\n",
            "\u001b[1m125/125\u001b[0m \u001b[32m━━━━━━━━━━━━━━━━━━━━\u001b[0m\u001b[37m\u001b[0m \u001b[1m19s\u001b[0m 153ms/step - accuracy: 0.9794 - loss: 0.1268 - val_accuracy: 0.7610 - val_loss: 1.0773\n",
            "Epoch 30/70\n",
            "\u001b[1m125/125\u001b[0m \u001b[32m━━━━━━━━━━━━━━━━━━━━\u001b[0m\u001b[37m\u001b[0m \u001b[1m20s\u001b[0m 146ms/step - accuracy: 0.9743 - loss: 0.1329 - val_accuracy: 0.7590 - val_loss: 1.0085\n",
            "Epoch 31/70\n",
            "\u001b[1m125/125\u001b[0m \u001b[32m━━━━━━━━━━━━━━━━━━━━\u001b[0m\u001b[37m\u001b[0m \u001b[1m20s\u001b[0m 146ms/step - accuracy: 0.9755 - loss: 0.1262 - val_accuracy: 0.7410 - val_loss: 1.2781\n",
            "Epoch 32/70\n",
            "\u001b[1m125/125\u001b[0m \u001b[32m━━━━━━━━━━━━━━━━━━━━\u001b[0m\u001b[37m\u001b[0m \u001b[1m18s\u001b[0m 144ms/step - accuracy: 0.9724 - loss: 0.1302 - val_accuracy: 0.7450 - val_loss: 1.0728\n",
            "Epoch 33/70\n",
            "\u001b[1m125/125\u001b[0m \u001b[32m━━━━━━━━━━━━━━━━━━━━\u001b[0m\u001b[37m\u001b[0m \u001b[1m20s\u001b[0m 144ms/step - accuracy: 0.9798 - loss: 0.1061 - val_accuracy: 0.7510 - val_loss: 1.2005\n",
            "Epoch 34/70\n",
            "\u001b[1m125/125\u001b[0m \u001b[32m━━━━━━━━━━━━━━━━━━━━\u001b[0m\u001b[37m\u001b[0m \u001b[1m21s\u001b[0m 145ms/step - accuracy: 0.9761 - loss: 0.1042 - val_accuracy: 0.7871 - val_loss: 1.0287\n",
            "Epoch 35/70\n",
            "\u001b[1m125/125\u001b[0m \u001b[32m━━━━━━━━━━━━━━━━━━━━\u001b[0m\u001b[37m\u001b[0m \u001b[1m20s\u001b[0m 144ms/step - accuracy: 0.9781 - loss: 0.1039 - val_accuracy: 0.7651 - val_loss: 0.9674\n",
            "Epoch 36/70\n",
            "\u001b[1m125/125\u001b[0m \u001b[32m━━━━━━━━━━━━━━━━━━━━\u001b[0m\u001b[37m\u001b[0m \u001b[1m19s\u001b[0m 149ms/step - accuracy: 0.9775 - loss: 0.0977 - val_accuracy: 0.7048 - val_loss: 1.3358\n",
            "Epoch 37/70\n",
            "\u001b[1m125/125\u001b[0m \u001b[32m━━━━━━━━━━━━━━━━━━━━\u001b[0m\u001b[37m\u001b[0m \u001b[1m20s\u001b[0m 145ms/step - accuracy: 0.9711 - loss: 0.1139 - val_accuracy: 0.7390 - val_loss: 1.1827\n",
            "Epoch 38/70\n",
            "\u001b[1m125/125\u001b[0m \u001b[32m━━━━━━━━━━━━━━━━━━━━\u001b[0m\u001b[37m\u001b[0m \u001b[1m21s\u001b[0m 147ms/step - accuracy: 0.9761 - loss: 0.1049 - val_accuracy: 0.7369 - val_loss: 1.2357\n",
            "Epoch 39/70\n",
            "\u001b[1m125/125\u001b[0m \u001b[32m━━━━━━━━━━━━━━━━━━━━\u001b[0m\u001b[37m\u001b[0m \u001b[1m20s\u001b[0m 159ms/step - accuracy: 0.9820 - loss: 0.0862 - val_accuracy: 0.7510 - val_loss: 1.1803\n",
            "Epoch 40/70\n",
            "\u001b[1m125/125\u001b[0m \u001b[32m━━━━━━━━━━━━━━━━━━━━\u001b[0m\u001b[37m\u001b[0m \u001b[1m17s\u001b[0m 137ms/step - accuracy: 0.9817 - loss: 0.0921 - val_accuracy: 0.7309 - val_loss: 1.3078\n",
            "Epoch 41/70\n",
            "\u001b[1m125/125\u001b[0m \u001b[32m━━━━━━━━━━━━━━━━━━━━\u001b[0m\u001b[37m\u001b[0m \u001b[1m22s\u001b[0m 153ms/step - accuracy: 0.9756 - loss: 0.0981 - val_accuracy: 0.7450 - val_loss: 1.2496\n",
            "Epoch 42/70\n",
            "\u001b[1m125/125\u001b[0m \u001b[32m━━━━━━━━━━━━━━━━━━━━\u001b[0m\u001b[37m\u001b[0m \u001b[1m20s\u001b[0m 145ms/step - accuracy: 0.9779 - loss: 0.0921 - val_accuracy: 0.6948 - val_loss: 1.6474\n",
            "Epoch 43/70\n",
            "\u001b[1m125/125\u001b[0m \u001b[32m━━━━━━━━━━━━━━━━━━━━\u001b[0m\u001b[37m\u001b[0m \u001b[1m21s\u001b[0m 150ms/step - accuracy: 0.9745 - loss: 0.1058 - val_accuracy: 0.6968 - val_loss: 1.6231\n",
            "Epoch 44/70\n",
            "\u001b[1m125/125\u001b[0m \u001b[32m━━━━━━━━━━━━━━━━━━━━\u001b[0m\u001b[37m\u001b[0m \u001b[1m19s\u001b[0m 155ms/step - accuracy: 0.9791 - loss: 0.0970 - val_accuracy: 0.7088 - val_loss: 1.3926\n",
            "Epoch 45/70\n",
            "\u001b[1m125/125\u001b[0m \u001b[32m━━━━━━━━━━━━━━━━━━━━\u001b[0m\u001b[37m\u001b[0m \u001b[1m19s\u001b[0m 150ms/step - accuracy: 0.9894 - loss: 0.0650 - val_accuracy: 0.7470 - val_loss: 1.3179\n",
            "Epoch 46/70\n",
            "\u001b[1m125/125\u001b[0m \u001b[32m━━━━━━━━━━━━━━━━━━━━\u001b[0m\u001b[37m\u001b[0m \u001b[1m20s\u001b[0m 147ms/step - accuracy: 0.9853 - loss: 0.0785 - val_accuracy: 0.7289 - val_loss: 1.3349\n",
            "Epoch 47/70\n",
            "\u001b[1m125/125\u001b[0m \u001b[32m━━━━━━━━━━━━━━━━━━━━\u001b[0m\u001b[37m\u001b[0m \u001b[1m19s\u001b[0m 138ms/step - accuracy: 0.9756 - loss: 0.0935 - val_accuracy: 0.7149 - val_loss: 1.4768\n",
            "Epoch 48/70\n",
            "\u001b[1m125/125\u001b[0m \u001b[32m━━━━━━━━━━━━━━━━━━━━\u001b[0m\u001b[37m\u001b[0m \u001b[1m22s\u001b[0m 148ms/step - accuracy: 0.9795 - loss: 0.0910 - val_accuracy: 0.7369 - val_loss: 1.2646\n",
            "Epoch 49/70\n",
            "\u001b[1m125/125\u001b[0m \u001b[32m━━━━━━━━━━━━━━━━━━━━\u001b[0m\u001b[37m\u001b[0m \u001b[1m18s\u001b[0m 140ms/step - accuracy: 0.9842 - loss: 0.0811 - val_accuracy: 0.7430 - val_loss: 1.2233\n",
            "Epoch 50/70\n",
            "\u001b[1m125/125\u001b[0m \u001b[32m━━━━━━━━━━━━━━━━━━━━\u001b[0m\u001b[37m\u001b[0m \u001b[1m17s\u001b[0m 138ms/step - accuracy: 0.9756 - loss: 0.1094 - val_accuracy: 0.7430 - val_loss: 1.2322\n",
            "Epoch 51/70\n",
            "\u001b[1m125/125\u001b[0m \u001b[32m━━━━━━━━━━━━━━━━━━━━\u001b[0m\u001b[37m\u001b[0m \u001b[1m22s\u001b[0m 149ms/step - accuracy: 0.9794 - loss: 0.0893 - val_accuracy: 0.7329 - val_loss: 1.4752\n",
            "Epoch 52/70\n",
            "\u001b[1m125/125\u001b[0m \u001b[32m━━━━━━━━━━━━━━━━━━━━\u001b[0m\u001b[37m\u001b[0m \u001b[1m19s\u001b[0m 138ms/step - accuracy: 0.9815 - loss: 0.0809 - val_accuracy: 0.7309 - val_loss: 1.4311\n",
            "Epoch 53/70\n",
            "\u001b[1m125/125\u001b[0m \u001b[32m━━━━━━━━━━━━━━━━━━━━\u001b[0m\u001b[37m\u001b[0m \u001b[1m17s\u001b[0m 139ms/step - accuracy: 0.9728 - loss: 0.1018 - val_accuracy: 0.7289 - val_loss: 1.2960\n",
            "Epoch 54/70\n",
            "\u001b[1m125/125\u001b[0m \u001b[32m━━━━━━━━━━━━━━━━━━━━\u001b[0m\u001b[37m\u001b[0m \u001b[1m22s\u001b[0m 148ms/step - accuracy: 0.9766 - loss: 0.0942 - val_accuracy: 0.7510 - val_loss: 1.2051\n",
            "Epoch 55/70\n",
            "\u001b[1m125/125\u001b[0m \u001b[32m━━━━━━━━━━━━━━━━━━━━\u001b[0m\u001b[37m\u001b[0m \u001b[1m20s\u001b[0m 146ms/step - accuracy: 0.9765 - loss: 0.0924 - val_accuracy: 0.7269 - val_loss: 1.2988\n",
            "Epoch 56/70\n",
            "\u001b[1m125/125\u001b[0m \u001b[32m━━━━━━━━━━━━━━━━━━━━\u001b[0m\u001b[37m\u001b[0m \u001b[1m22s\u001b[0m 161ms/step - accuracy: 0.9831 - loss: 0.0821 - val_accuracy: 0.7470 - val_loss: 1.1088\n",
            "Epoch 57/70\n",
            "\u001b[1m125/125\u001b[0m \u001b[32m━━━━━━━━━━━━━━━━━━━━\u001b[0m\u001b[37m\u001b[0m \u001b[1m18s\u001b[0m 144ms/step - accuracy: 0.9798 - loss: 0.0891 - val_accuracy: 0.7048 - val_loss: 1.3367\n",
            "Epoch 58/70\n",
            "\u001b[1m125/125\u001b[0m \u001b[32m━━━━━━━━━━━━━━━━━━━━\u001b[0m\u001b[37m\u001b[0m \u001b[1m19s\u001b[0m 148ms/step - accuracy: 0.9809 - loss: 0.0781 - val_accuracy: 0.7590 - val_loss: 1.1252\n",
            "Epoch 59/70\n",
            "\u001b[1m125/125\u001b[0m \u001b[32m━━━━━━━━━━━━━━━━━━━━\u001b[0m\u001b[37m\u001b[0m \u001b[1m20s\u001b[0m 157ms/step - accuracy: 0.9751 - loss: 0.0890 - val_accuracy: 0.7390 - val_loss: 1.3063\n",
            "Epoch 60/70\n",
            "\u001b[1m125/125\u001b[0m \u001b[32m━━━━━━━━━━━━━━━━━━━━\u001b[0m\u001b[37m\u001b[0m \u001b[1m19s\u001b[0m 143ms/step - accuracy: 0.9776 - loss: 0.0936 - val_accuracy: 0.7530 - val_loss: 1.1146\n",
            "Epoch 61/70\n",
            "\u001b[1m125/125\u001b[0m \u001b[32m━━━━━━━━━━━━━━━━━━━━\u001b[0m\u001b[37m\u001b[0m \u001b[1m18s\u001b[0m 147ms/step - accuracy: 0.9792 - loss: 0.0790 - val_accuracy: 0.7550 - val_loss: 1.1292\n",
            "Epoch 62/70\n",
            "\u001b[1m125/125\u001b[0m \u001b[32m━━━━━━━━━━━━━━━━━━━━\u001b[0m\u001b[37m\u001b[0m \u001b[1m18s\u001b[0m 145ms/step - accuracy: 0.9828 - loss: 0.0782 - val_accuracy: 0.7570 - val_loss: 1.2173\n",
            "Epoch 63/70\n",
            "\u001b[1m125/125\u001b[0m \u001b[32m━━━━━━━━━━━━━━━━━━━━\u001b[0m\u001b[37m\u001b[0m \u001b[1m17s\u001b[0m 139ms/step - accuracy: 0.9814 - loss: 0.0767 - val_accuracy: 0.7369 - val_loss: 1.2750\n",
            "Epoch 64/70\n",
            "\u001b[1m125/125\u001b[0m \u001b[32m━━━━━━━━━━━━━━━━━━━━\u001b[0m\u001b[37m\u001b[0m \u001b[1m22s\u001b[0m 150ms/step - accuracy: 0.9775 - loss: 0.0893 - val_accuracy: 0.7450 - val_loss: 1.2117\n",
            "Epoch 65/70\n",
            "\u001b[1m125/125\u001b[0m \u001b[32m━━━━━━━━━━━━━━━━━━━━\u001b[0m\u001b[37m\u001b[0m \u001b[1m20s\u001b[0m 146ms/step - accuracy: 0.9770 - loss: 0.0919 - val_accuracy: 0.7510 - val_loss: 1.2623\n",
            "Epoch 66/70\n",
            "\u001b[1m125/125\u001b[0m \u001b[32m━━━━━━━━━━━━━━━━━━━━\u001b[0m\u001b[37m\u001b[0m \u001b[1m21s\u001b[0m 146ms/step - accuracy: 0.9826 - loss: 0.0860 - val_accuracy: 0.7530 - val_loss: 1.1539\n",
            "Epoch 67/70\n",
            "\u001b[1m125/125\u001b[0m \u001b[32m━━━━━━━━━━━━━━━━━━━━\u001b[0m\u001b[37m\u001b[0m \u001b[1m18s\u001b[0m 144ms/step - accuracy: 0.9799 - loss: 0.0719 - val_accuracy: 0.7329 - val_loss: 1.4176\n",
            "Epoch 68/70\n",
            "\u001b[1m125/125\u001b[0m \u001b[32m━━━━━━━━━━━━━━━━━━━━\u001b[0m\u001b[37m\u001b[0m \u001b[1m20s\u001b[0m 138ms/step - accuracy: 0.9819 - loss: 0.0808 - val_accuracy: 0.7329 - val_loss: 1.2583\n",
            "Epoch 69/70\n",
            "\u001b[1m125/125\u001b[0m \u001b[32m━━━━━━━━━━━━━━━━━━━━\u001b[0m\u001b[37m\u001b[0m \u001b[1m18s\u001b[0m 141ms/step - accuracy: 0.9864 - loss: 0.0733 - val_accuracy: 0.7269 - val_loss: 1.2376\n",
            "Epoch 70/70\n",
            "\u001b[1m125/125\u001b[0m \u001b[32m━━━━━━━━━━━━━━━━━━━━\u001b[0m\u001b[37m\u001b[0m \u001b[1m21s\u001b[0m 146ms/step - accuracy: 0.9757 - loss: 0.0895 - val_accuracy: 0.7671 - val_loss: 1.0401\n"
          ]
        }
      ]
    },
    {
      "cell_type": "code",
      "source": [
        "# Visualisasi akurasi\n",
        "plt.plot(history.history['accuracy'], label='Training Accuracy')\n",
        "plt.plot(history.history['val_accuracy'], label='Validation Accuracy')\n",
        "plt.title('Training and Validation Accuracy')\n",
        "plt.xlabel('Epoch')\n",
        "plt.ylabel('Accuracy')\n",
        "plt.legend(loc='best')\n",
        "plt.show()\n",
        "\n",
        "# Visualisasi loss\n",
        "plt.plot(history.history['loss'], label='Training Loss')\n",
        "plt.plot(history.history['val_loss'], label='Validation Loss')\n",
        "plt.title('Training and Validation Loss')\n",
        "plt.xlabel('Epoch')\n",
        "plt.ylabel('Loss')\n",
        "plt.legend(loc='best')\n",
        "plt.show()"
      ],
      "metadata": {
        "id": "-sRrJds0WRDx",
        "colab": {
          "base_uri": "https://localhost:8080/",
          "height": 927
        },
        "outputId": "786811c8-1789-4f57-c54e-35e8c983429c"
      },
      "execution_count": 47,
      "outputs": [
        {
          "output_type": "display_data",
          "data": {
            "text/plain": [
              "<Figure size 640x480 with 1 Axes>"
            ],
            "image/png": "[encoded data removed]"
          },
          "metadata": {}
        },
        {
          "output_type": "display_data",
          "data": {
            "text/plain": [
              "<Figure size 640x480 with 1 Axes>"
            ],
            "image/png": "[encoded data removed]"
          },
          "metadata": {}
        }
      ]
    },
    {
      "cell_type": "code",
      "source": [
        "from sklearn.metrics import f1_score, precision_score, recall_score, accuracy_score\n",
        "from sklearn.metrics import confusion_matrix\n",
        "import seaborn as sns\n",
        "import matplotlib.pyplot as plt\n",
        "import os\n",
        "\n",
        "# test_dir2 = '/content/drive/MyDrive/Dataset_Capstone/extracted_faces/test'\n",
        "\n",
        "# test_ds\n",
        "\n",
        "# Dapatkan prediksi untuk data testing\n",
        "y_pred = model.predict(test_ds)\n",
        "y_pred = np.argmax(y_pred, axis=1)\n",
        "\n",
        "# Dapatkan label sebenarnya untuk data testing\n",
        "y_true = np.concatenate([y for x, y in test_ds], axis=0)\n",
        "y_true = np.argmax(y_true, axis=1)\n",
        "\n",
        "# Hitung dan print metrik\n",
        "accuracy = accuracy_score(y_true, y_pred)\n",
        "precision = precision_score(y_true, y_pred, average='weighted')\n",
        "recall = recall_score(y_true, y_pred, average='weighted')\n",
        "f1 = f1_score(y_true, y_pred, average='weighted')\n",
        "\n",
        "# You can print the metrics:\n",
        "print(f\"Accuracy: {accuracy}\")\n",
        "print(f\"Precision: {precision}\")\n",
        "print(f\"Recall: {recall}\")\n",
        "print(f\"F1 Score: {f1}\")"
      ],
      "metadata": {
        "colab": {
          "base_uri": "https://localhost:8080/"
        },
        "id": "ufLWazkvmAyQ",
        "outputId": "9b26a19d-1c19-4e83-8295-ea715d243a7c"
      },
      "execution_count": 41,
      "outputs": [
        {
          "output_type": "stream",
          "name": "stdout",
          "text": [
            "\u001b[1m16/16\u001b[0m \u001b[32m━━━━━━━━━━━━━━━━━━━━\u001b[0m\u001b[37m\u001b[0m \u001b[1m4s\u001b[0m 173ms/step\n",
            "Accuracy: 0.79\n",
            "Precision: 0.7975146414875848\n",
            "Recall: 0.79\n",
            "F1 Score: 0.7899080059294638\n"
          ]
        }
      ]
    },
    {
      "cell_type": "code",
      "source": [
        "# Data metrik\n",
        "metrics = ['Accuracy', 'Precision', 'Recall', 'F1-score']\n",
        "values = [accuracy, precision, recall, f1]\n",
        "\n",
        "# Membuat bar chart\n",
        "plt.figure(figsize=(8, 6))\n",
        "plt.bar(metrics, values, color=['blue', 'green', 'red', 'purple'])\n",
        "plt.title('Model Performance Metrics')\n",
        "plt.xlabel('Metric')\n",
        "plt.ylabel('Score')\n",
        "plt.ylim([0, 1])  # Mengatur batas sumbu y antara 0 dan 1\n",
        "\n",
        "# Menambahkan label nilai di atas setiap bar\n",
        "for i, v in enumerate(values):\n",
        "    plt.text(i, v + 0.02, f'{v:.2f}', ha='center', va='bottom')\n",
        "\n",
        "plt.show()"
      ],
      "metadata": {
        "colab": {
          "base_uri": "https://localhost:8080/",
          "height": 564
        },
        "id": "qzM7IWTVm2J1",
        "outputId": "b44be00d-138e-4a1c-fffc-f0634ad12dfe"
      },
      "execution_count": 42,
      "outputs": [
        {
          "output_type": "display_data",
          "data": {
            "text/plain": [
              "<Figure size 800x600 with 1 Axes>"
            ],
            "image/png": "[encoded data removed]"
          },
          "metadata": {}
        }
      ]
    },
    {
      "cell_type": "code",
      "source": [
        "# Buat dan tampilkan confusion matrix\n",
        "cm = confusion_matrix(y_true, y_pred)\n",
        "plt.figure(figsize=(10, 7))\n",
        "sns.heatmap(cm, annot=True, fmt='d', cmap='Blues', xticklabels=class_names, yticklabels=class_names)\n",
        "plt.title('Confusion Matrix')\n",
        "plt.xlabel('Predicted Label')\n",
        "plt.ylabel('True Label')\n",
        "plt.show()"
      ],
      "metadata": {
        "colab": {
          "base_uri": "https://localhost:8080/",
          "height": 641
        },
        "id": "muE3Up7jmJLE",
        "outputId": "c3a884aa-683f-4e4e-ed9a-b3b7cfe11686"
      },
      "execution_count": 43,
      "outputs": [
        {
          "output_type": "display_data",
          "data": {
            "text/plain": [
              "<Figure size 1000x700 with 2 Axes>"
            ],
            "image/png": "[encoded data removed]"
          },
          "metadata": {}
        }
      ]
    },
    {
      "cell_type": "code",
      "source": [
        "model.save('/content/drive/MyDrive/Model/Model_V4.h5')"
      ],
      "metadata": {
        "colab": {
          "base_uri": "https://localhost:8080/"
        },
        "id": "7-nAfCX5EZ3w",
        "outputId": "3d399e5d-f009-4949-e35d-53c17a00d7eb"
      },
      "execution_count": 44,
      "outputs": [
        {
          "output_type": "stream",
          "name": "stderr",
          "text": [
            "WARNING:absl:You are saving your model as an HDF5 file via `model.save()` or `keras.saving.save_model(model)`. This file format is considered legacy. We recommend using instead the native Keras format, e.g. `model.save('my_model.keras')` or `keras.saving.save_model(model, 'my_model.keras')`. \n"
          ]
        }
      ]
    },
    {
      "cell_type": "code",
      "source": [
        "model_path = '/content/drive/MyDrive/Model/Model_V4.keras'\n",
        "tf.keras.models.save_model(\n",
        "    model, filepath=model_path, overwrite=True, include_optimizer=True, save_format=None)"
      ],
      "metadata": {
        "id": "qTGLvEABrnE-"
      },
      "execution_count": 45,
      "outputs": []
    },
    {
      "cell_type": "markdown",
      "source": [
        "## Convert to tfLite"
      ],
      "metadata": {
        "id": "0j9id7vSE783"
      }
    },
    {
      "cell_type": "code",
      "source": [
        "converter = tf.lite.TFLiteConverter.from_keras_model(model)\n",
        "tflite_model = converter.convert()\n",
        "\n",
        "with open('/content/drive/MyDrive/Model/Model_V4.tflite', 'wb') as f:\n",
        "    f.write(tflite_model)"
      ],
      "metadata": {
        "id": "MddhyOh4E7YC",
        "colab": {
          "base_uri": "https://localhost:8080/"
        },
        "outputId": "fc3373f7-059b-4daf-dccc-408424ac73f8"
      },
      "execution_count": 46,
      "outputs": [
        {
          "output_type": "stream",
          "name": "stdout",
          "text": [
            "Saved artifact at '/tmp/tmpt_eitz3j'. The following endpoints are available:\n",
            "\n",
            "* Endpoint 'serve'\n",
            "  args_0 (POSITIONAL_ONLY): TensorSpec(shape=(None, 224, 224, 3), dtype=tf.float32, name='keras_tensor_206')\n",
            "Output Type:\n",
            "  TensorSpec(shape=(None, 5), dtype=tf.float32, name=None)\n",
            "Captures:\n",
            "  139380687396656: TensorSpec(shape=(), dtype=tf.resource, name=None)\n",
            "  139380730575184: TensorSpec(shape=(), dtype=tf.resource, name=None)\n",
            "  139380709151440: TensorSpec(shape=(), dtype=tf.resource, name=None)\n",
            "  139380709156896: TensorSpec(shape=(), dtype=tf.resource, name=None)\n",
            "  139380709157952: TensorSpec(shape=(), dtype=tf.resource, name=None)\n",
            "  139380709152144: TensorSpec(shape=(), dtype=tf.resource, name=None)\n",
            "  139380709364608: TensorSpec(shape=(), dtype=tf.resource, name=None)\n",
            "  139380709367248: TensorSpec(shape=(), dtype=tf.resource, name=None)\n",
            "  139380709363200: TensorSpec(shape=(), dtype=tf.resource, name=None)\n",
            "  139380709365136: TensorSpec(shape=(), dtype=tf.resource, name=None)\n",
            "  139380709160944: TensorSpec(shape=(), dtype=tf.resource, name=None)\n",
            "  139380709372000: TensorSpec(shape=(), dtype=tf.resource, name=None)\n",
            "  139380709374640: TensorSpec(shape=(), dtype=tf.resource, name=None)\n",
            "  139380709370592: TensorSpec(shape=(), dtype=tf.resource, name=None)\n",
            "  139380709372528: TensorSpec(shape=(), dtype=tf.resource, name=None)\n",
            "  139380709363552: TensorSpec(shape=(), dtype=tf.resource, name=None)\n",
            "  139380709525632: TensorSpec(shape=(), dtype=tf.resource, name=None)\n",
            "  139380709528448: TensorSpec(shape=(), dtype=tf.resource, name=None)\n",
            "  139380709523872: TensorSpec(shape=(), dtype=tf.resource, name=None)\n",
            "  139380709527392: TensorSpec(shape=(), dtype=tf.resource, name=None)\n",
            "  139380709536016: TensorSpec(shape=(), dtype=tf.resource, name=None)\n",
            "  139380709534256: TensorSpec(shape=(), dtype=tf.resource, name=None)\n",
            "  139380709537072: TensorSpec(shape=(), dtype=tf.resource, name=None)\n",
            "  139380709524048: TensorSpec(shape=(), dtype=tf.resource, name=None)\n",
            "  139380709535312: TensorSpec(shape=(), dtype=tf.resource, name=None)\n",
            "  139380709531968: TensorSpec(shape=(), dtype=tf.resource, name=None)\n",
            "  139380709558224: TensorSpec(shape=(), dtype=tf.resource, name=None)\n",
            "  139380709560512: TensorSpec(shape=(), dtype=tf.resource, name=None)\n",
            "  139380709556464: TensorSpec(shape=(), dtype=tf.resource, name=None)\n",
            "  139380709559984: TensorSpec(shape=(), dtype=tf.resource, name=None)\n",
            "  139380709533200: TensorSpec(shape=(), dtype=tf.resource, name=None)\n",
            "  139380709564560: TensorSpec(shape=(), dtype=tf.resource, name=None)\n",
            "  139380709567200: TensorSpec(shape=(), dtype=tf.resource, name=None)\n",
            "  139380709563152: TensorSpec(shape=(), dtype=tf.resource, name=None)\n",
            "  139380709565088: TensorSpec(shape=(), dtype=tf.resource, name=None)\n",
            "  139380709569664: TensorSpec(shape=(), dtype=tf.resource, name=None)\n",
            "  139380709638736: TensorSpec(shape=(), dtype=tf.resource, name=None)\n",
            "  139380709568432: TensorSpec(shape=(), dtype=tf.resource, name=None)\n",
            "  139380709572128: TensorSpec(shape=(), dtype=tf.resource, name=None)\n",
            "  139380709639264: TensorSpec(shape=(), dtype=tf.resource, name=None)\n",
            "  139380709569488: TensorSpec(shape=(), dtype=tf.resource, name=None)\n",
            "  139380709645072: TensorSpec(shape=(), dtype=tf.resource, name=None)\n",
            "  139380709647712: TensorSpec(shape=(), dtype=tf.resource, name=None)\n",
            "  139380709643664: TensorSpec(shape=(), dtype=tf.resource, name=None)\n",
            "  139380709645600: TensorSpec(shape=(), dtype=tf.resource, name=None)\n",
            "  139380709571248: TensorSpec(shape=(), dtype=tf.resource, name=None)\n",
            "  139380709650000: TensorSpec(shape=(), dtype=tf.resource, name=None)\n",
            "  139380709649296: TensorSpec(shape=(), dtype=tf.resource, name=None)\n",
            "  139380709650704: TensorSpec(shape=(), dtype=tf.resource, name=None)\n",
            "  139380709653696: TensorSpec(shape=(), dtype=tf.resource, name=None)\n",
            "  139380709652640: TensorSpec(shape=(), dtype=tf.resource, name=None)\n",
            "  139380709759584: TensorSpec(shape=(), dtype=tf.resource, name=None)\n",
            "  139380709762400: TensorSpec(shape=(), dtype=tf.resource, name=None)\n",
            "  139380709758176: TensorSpec(shape=(), dtype=tf.resource, name=None)\n",
            "  139380709760640: TensorSpec(shape=(), dtype=tf.resource, name=None)\n",
            "  139380709768208: TensorSpec(shape=(), dtype=tf.resource, name=None)\n",
            "  139380709764688: TensorSpec(shape=(), dtype=tf.resource, name=None)\n",
            "  139380709763984: TensorSpec(shape=(), dtype=tf.resource, name=None)\n",
            "  139380709765392: TensorSpec(shape=(), dtype=tf.resource, name=None)\n",
            "  139380709768384: TensorSpec(shape=(), dtype=tf.resource, name=None)\n",
            "  139380709758528: TensorSpec(shape=(), dtype=tf.resource, name=None)\n",
            "  139380709855424: TensorSpec(shape=(), dtype=tf.resource, name=None)\n",
            "  139380709858064: TensorSpec(shape=(), dtype=tf.resource, name=None)\n",
            "  139380709854016: TensorSpec(shape=(), dtype=tf.resource, name=None)\n",
            "  139380709855952: TensorSpec(shape=(), dtype=tf.resource, name=None)\n",
            "  139380709864400: TensorSpec(shape=(), dtype=tf.resource, name=None)\n",
            "  139380709862640: TensorSpec(shape=(), dtype=tf.resource, name=None)\n",
            "  139380709865456: TensorSpec(shape=(), dtype=tf.resource, name=None)\n",
            "  139380709854368: TensorSpec(shape=(), dtype=tf.resource, name=None)\n",
            "  139380709863696: TensorSpec(shape=(), dtype=tf.resource, name=None)\n",
            "  139380709860352: TensorSpec(shape=(), dtype=tf.resource, name=None)\n",
            "  139380709903344: TensorSpec(shape=(), dtype=tf.resource, name=None)\n",
            "  139380709905808: TensorSpec(shape=(), dtype=tf.resource, name=None)\n",
            "  139380709901232: TensorSpec(shape=(), dtype=tf.resource, name=None)\n",
            "  139380709904752: TensorSpec(shape=(), dtype=tf.resource, name=None)\n",
            "  139380709861584: TensorSpec(shape=(), dtype=tf.resource, name=None)\n",
            "  139380709910736: TensorSpec(shape=(), dtype=tf.resource, name=None)\n",
            "  139380709913376: TensorSpec(shape=(), dtype=tf.resource, name=None)\n",
            "  139380709909328: TensorSpec(shape=(), dtype=tf.resource, name=None)\n",
            "  139380709911264: TensorSpec(shape=(), dtype=tf.resource, name=None)\n",
            "  139380709915840: TensorSpec(shape=(), dtype=tf.resource, name=None)\n",
            "  139380705462928: TensorSpec(shape=(), dtype=tf.resource, name=None)\n",
            "  139380705460640: TensorSpec(shape=(), dtype=tf.resource, name=None)\n",
            "  139380705463984: TensorSpec(shape=(), dtype=tf.resource, name=None)\n",
            "  139380705463280: TensorSpec(shape=(), dtype=tf.resource, name=None)\n",
            "  139380709915664: TensorSpec(shape=(), dtype=tf.resource, name=None)\n",
            "  139380705469264: TensorSpec(shape=(), dtype=tf.resource, name=None)\n",
            "  139380705471904: TensorSpec(shape=(), dtype=tf.resource, name=None)\n",
            "  139380705467856: TensorSpec(shape=(), dtype=tf.resource, name=None)\n",
            "  139380705469792: TensorSpec(shape=(), dtype=tf.resource, name=None)\n",
            "  139380705474720: TensorSpec(shape=(), dtype=tf.resource, name=None)\n",
            "  139380705558768: TensorSpec(shape=(), dtype=tf.resource, name=None)\n",
            "  139380705558944: TensorSpec(shape=(), dtype=tf.resource, name=None)\n",
            "  139380705476304: TensorSpec(shape=(), dtype=tf.resource, name=None)\n",
            "  139380705560528: TensorSpec(shape=(), dtype=tf.resource, name=None)\n",
            "  139380705569328: TensorSpec(shape=(), dtype=tf.resource, name=None)\n",
            "  139380705567568: TensorSpec(shape=(), dtype=tf.resource, name=None)\n",
            "  139380705570384: TensorSpec(shape=(), dtype=tf.resource, name=None)\n",
            "  139380705560880: TensorSpec(shape=(), dtype=tf.resource, name=None)\n",
            "  139380705568624: TensorSpec(shape=(), dtype=tf.resource, name=None)\n",
            "  139380705573024: TensorSpec(shape=(), dtype=tf.resource, name=None)\n",
            "  139380705640688: TensorSpec(shape=(), dtype=tf.resource, name=None)\n",
            "  139380705640864: TensorSpec(shape=(), dtype=tf.resource, name=None)\n",
            "  139380705574608: TensorSpec(shape=(), dtype=tf.resource, name=None)\n",
            "  139380705642448: TensorSpec(shape=(), dtype=tf.resource, name=None)\n",
            "  139380705566512: TensorSpec(shape=(), dtype=tf.resource, name=None)\n",
            "  139380705647024: TensorSpec(shape=(), dtype=tf.resource, name=None)\n",
            "  139380705649664: TensorSpec(shape=(), dtype=tf.resource, name=None)\n",
            "  139380705645616: TensorSpec(shape=(), dtype=tf.resource, name=None)\n",
            "  139380705647552: TensorSpec(shape=(), dtype=tf.resource, name=None)\n",
            "  139380705656000: TensorSpec(shape=(), dtype=tf.resource, name=None)\n",
            "  139380705654240: TensorSpec(shape=(), dtype=tf.resource, name=None)\n",
            "  139380705651600: TensorSpec(shape=(), dtype=tf.resource, name=None)\n",
            "  139380705645968: TensorSpec(shape=(), dtype=tf.resource, name=None)\n",
            "  139380705655296: TensorSpec(shape=(), dtype=tf.resource, name=None)\n",
            "  139380705651952: TensorSpec(shape=(), dtype=tf.resource, name=None)\n",
            "  139380705727536: TensorSpec(shape=(), dtype=tf.resource, name=None)\n",
            "  139380705730176: TensorSpec(shape=(), dtype=tf.resource, name=None)\n",
            "  139380705726128: TensorSpec(shape=(), dtype=tf.resource, name=None)\n",
            "  139380705728064: TensorSpec(shape=(), dtype=tf.resource, name=None)\n",
            "  139380705653184: TensorSpec(shape=(), dtype=tf.resource, name=None)\n",
            "  139380705735104: TensorSpec(shape=(), dtype=tf.resource, name=None)\n",
            "  139380705737744: TensorSpec(shape=(), dtype=tf.resource, name=None)\n",
            "  139380705733696: TensorSpec(shape=(), dtype=tf.resource, name=None)\n",
            "  139380705735632: TensorSpec(shape=(), dtype=tf.resource, name=None)\n",
            "  139380705734048: TensorSpec(shape=(), dtype=tf.resource, name=None)\n",
            "  139380705824432: TensorSpec(shape=(), dtype=tf.resource, name=None)\n",
            "  139380705827248: TensorSpec(shape=(), dtype=tf.resource, name=None)\n",
            "  139380705823024: TensorSpec(shape=(), dtype=tf.resource, name=None)\n",
            "  139380705825488: TensorSpec(shape=(), dtype=tf.resource, name=None)\n",
            "  139380705833056: TensorSpec(shape=(), dtype=tf.resource, name=None)\n",
            "  139380705832000: TensorSpec(shape=(), dtype=tf.resource, name=None)\n",
            "  139380705834640: TensorSpec(shape=(), dtype=tf.resource, name=None)\n",
            "  139380705822144: TensorSpec(shape=(), dtype=tf.resource, name=None)\n",
            "  139380705832528: TensorSpec(shape=(), dtype=tf.resource, name=None)\n",
            "  139380705823376: TensorSpec(shape=(), dtype=tf.resource, name=None)\n",
            "  139380705889088: TensorSpec(shape=(), dtype=tf.resource, name=None)\n",
            "  139380705891552: TensorSpec(shape=(), dtype=tf.resource, name=None)\n",
            "  139380705886976: TensorSpec(shape=(), dtype=tf.resource, name=None)\n",
            "  139380705890496: TensorSpec(shape=(), dtype=tf.resource, name=None)\n",
            "  139380705897888: TensorSpec(shape=(), dtype=tf.resource, name=None)\n",
            "  139380705896128: TensorSpec(shape=(), dtype=tf.resource, name=None)\n",
            "  139380705898944: TensorSpec(shape=(), dtype=tf.resource, name=None)\n",
            "  139380705887152: TensorSpec(shape=(), dtype=tf.resource, name=None)\n",
            "  139380705897184: TensorSpec(shape=(), dtype=tf.resource, name=None)\n",
            "  139380705901584: TensorSpec(shape=(), dtype=tf.resource, name=None)\n",
            "  139380705969248: TensorSpec(shape=(), dtype=tf.resource, name=None)\n",
            "  139380705968896: TensorSpec(shape=(), dtype=tf.resource, name=None)\n",
            "  139380705971360: TensorSpec(shape=(), dtype=tf.resource, name=None)\n",
            "  139380705971008: TensorSpec(shape=(), dtype=tf.resource, name=None)\n",
            "  139380705895072: TensorSpec(shape=(), dtype=tf.resource, name=None)\n",
            "  139380705976992: TensorSpec(shape=(), dtype=tf.resource, name=None)\n",
            "  139380705979632: TensorSpec(shape=(), dtype=tf.resource, name=None)\n",
            "  139380705975584: TensorSpec(shape=(), dtype=tf.resource, name=None)\n",
            "  139380705977520: TensorSpec(shape=(), dtype=tf.resource, name=None)\n",
            "  139380705982096: TensorSpec(shape=(), dtype=tf.resource, name=None)\n",
            "  139380706051168: TensorSpec(shape=(), dtype=tf.resource, name=None)\n",
            "  139380706050112: TensorSpec(shape=(), dtype=tf.resource, name=None)\n",
            "  139380705984208: TensorSpec(shape=(), dtype=tf.resource, name=None)\n",
            "  139380706051520: TensorSpec(shape=(), dtype=tf.resource, name=None)\n",
            "  139380705981920: TensorSpec(shape=(), dtype=tf.resource, name=None)\n",
            "  139380706057504: TensorSpec(shape=(), dtype=tf.resource, name=None)\n",
            "  139380706060144: TensorSpec(shape=(), dtype=tf.resource, name=None)\n",
            "  139380706056096: TensorSpec(shape=(), dtype=tf.resource, name=None)\n",
            "  139380706058032: TensorSpec(shape=(), dtype=tf.resource, name=None)\n",
            "  139380706064720: TensorSpec(shape=(), dtype=tf.resource, name=None)\n",
            "  139380706063664: TensorSpec(shape=(), dtype=tf.resource, name=None)\n",
            "  139380706058736: TensorSpec(shape=(), dtype=tf.resource, name=None)\n",
            "  139380706050640: TensorSpec(shape=(), dtype=tf.resource, name=None)\n",
            "  139380706064192: TensorSpec(shape=(), dtype=tf.resource, name=None)\n",
            "  139380706062608: TensorSpec(shape=(), dtype=tf.resource, name=None)\n",
            "  139380706152992: TensorSpec(shape=(), dtype=tf.resource, name=None)\n",
            "  139380706155808: TensorSpec(shape=(), dtype=tf.resource, name=None)\n",
            "  139380706151584: TensorSpec(shape=(), dtype=tf.resource, name=None)\n",
            "  139380706154048: TensorSpec(shape=(), dtype=tf.resource, name=None)\n",
            "  139380706161616: TensorSpec(shape=(), dtype=tf.resource, name=None)\n",
            "  139380706160560: TensorSpec(shape=(), dtype=tf.resource, name=None)\n",
            "  139380706163200: TensorSpec(shape=(), dtype=tf.resource, name=None)\n",
            "  139380706150704: TensorSpec(shape=(), dtype=tf.resource, name=None)\n",
            "  139380706161088: TensorSpec(shape=(), dtype=tf.resource, name=None)\n",
            "  139380706151936: TensorSpec(shape=(), dtype=tf.resource, name=None)\n",
            "  139380706233856: TensorSpec(shape=(), dtype=tf.resource, name=None)\n",
            "  139380706236496: TensorSpec(shape=(), dtype=tf.resource, name=None)\n",
            "  139380706232448: TensorSpec(shape=(), dtype=tf.resource, name=None)\n",
            "  139380706234384: TensorSpec(shape=(), dtype=tf.resource, name=None)\n",
            "  139380706242832: TensorSpec(shape=(), dtype=tf.resource, name=None)\n",
            "  139380706241072: TensorSpec(shape=(), dtype=tf.resource, name=None)\n",
            "  139380706243888: TensorSpec(shape=(), dtype=tf.resource, name=None)\n",
            "  139380706232800: TensorSpec(shape=(), dtype=tf.resource, name=None)\n",
            "  139380706242128: TensorSpec(shape=(), dtype=tf.resource, name=None)\n",
            "  139380706238784: TensorSpec(shape=(), dtype=tf.resource, name=None)\n",
            "  139380706330576: TensorSpec(shape=(), dtype=tf.resource, name=None)\n",
            "  139380706332864: TensorSpec(shape=(), dtype=tf.resource, name=None)\n",
            "  139380706328816: TensorSpec(shape=(), dtype=tf.resource, name=None)\n",
            "  139380706332336: TensorSpec(shape=(), dtype=tf.resource, name=None)\n",
            "  139380706240016: TensorSpec(shape=(), dtype=tf.resource, name=None)\n",
            "  139380706338320: TensorSpec(shape=(), dtype=tf.resource, name=None)\n",
            "  139380706340960: TensorSpec(shape=(), dtype=tf.resource, name=None)\n",
            "  139380706336912: TensorSpec(shape=(), dtype=tf.resource, name=None)\n",
            "  139380706338848: TensorSpec(shape=(), dtype=tf.resource, name=None)\n",
            "  139380706337264: TensorSpec(shape=(), dtype=tf.resource, name=None)\n",
            "  139380706430288: TensorSpec(shape=(), dtype=tf.resource, name=None)\n",
            "  139380706431344: TensorSpec(shape=(), dtype=tf.resource, name=None)\n",
            "  139380706427120: TensorSpec(shape=(), dtype=tf.resource, name=None)\n",
            "  139380706430640: TensorSpec(shape=(), dtype=tf.resource, name=None)\n",
            "  139380706344656: TensorSpec(shape=(), dtype=tf.resource, name=None)\n",
            "  139380706436624: TensorSpec(shape=(), dtype=tf.resource, name=None)\n",
            "  139380706439264: TensorSpec(shape=(), dtype=tf.resource, name=None)\n",
            "  139380706435216: TensorSpec(shape=(), dtype=tf.resource, name=None)\n",
            "  139380706437152: TensorSpec(shape=(), dtype=tf.resource, name=None)\n",
            "  139380730568496: TensorSpec(shape=(), dtype=tf.resource, name=None)\n",
            "  139380706435568: TensorSpec(shape=(), dtype=tf.resource, name=None)\n",
            "  139380709152672: TensorSpec(shape=(), dtype=tf.resource, name=None)\n",
            "  139380706497232: TensorSpec(shape=(), dtype=tf.resource, name=None)\n",
            "  139380709158480: TensorSpec(shape=(), dtype=tf.resource, name=None)\n",
            "  139380709148272: TensorSpec(shape=(), dtype=tf.resource, name=None)\n",
            "  139380706499344: TensorSpec(shape=(), dtype=tf.resource, name=None)\n",
            "  139380706502160: TensorSpec(shape=(), dtype=tf.resource, name=None)\n",
            "  139380706493008: TensorSpec(shape=(), dtype=tf.resource, name=None)\n",
            "  139380706500400: TensorSpec(shape=(), dtype=tf.resource, name=None)\n",
            "  139380706507968: TensorSpec(shape=(), dtype=tf.resource, name=None)\n",
            "  139380706504448: TensorSpec(shape=(), dtype=tf.resource, name=None)\n",
            "  139380706503744: TensorSpec(shape=(), dtype=tf.resource, name=None)\n",
            "  139380706505152: TensorSpec(shape=(), dtype=tf.resource, name=None)\n",
            "  139380706508144: TensorSpec(shape=(), dtype=tf.resource, name=None)\n",
            "  139380706498288: TensorSpec(shape=(), dtype=tf.resource, name=None)\n",
            "  139380613256944: TensorSpec(shape=(), dtype=tf.resource, name=None)\n",
            "  139380613259760: TensorSpec(shape=(), dtype=tf.resource, name=None)\n",
            "  139380613255536: TensorSpec(shape=(), dtype=tf.resource, name=None)\n",
            "  139380613259232: TensorSpec(shape=(), dtype=tf.resource, name=None)\n",
            "  139380613266096: TensorSpec(shape=(), dtype=tf.resource, name=None)\n",
            "  139380613264336: TensorSpec(shape=(), dtype=tf.resource, name=None)\n",
            "  139380613267152: TensorSpec(shape=(), dtype=tf.resource, name=None)\n",
            "  139380613255888: TensorSpec(shape=(), dtype=tf.resource, name=None)\n",
            "  139380613265392: TensorSpec(shape=(), dtype=tf.resource, name=None)\n",
            "  139380613262048: TensorSpec(shape=(), dtype=tf.resource, name=None)\n",
            "  139380613337632: TensorSpec(shape=(), dtype=tf.resource, name=None)\n",
            "  139380613340272: TensorSpec(shape=(), dtype=tf.resource, name=None)\n",
            "  139380613336224: TensorSpec(shape=(), dtype=tf.resource, name=None)\n",
            "  139380613338160: TensorSpec(shape=(), dtype=tf.resource, name=None)\n",
            "  139380613263280: TensorSpec(shape=(), dtype=tf.resource, name=None)\n",
            "  139380613345200: TensorSpec(shape=(), dtype=tf.resource, name=None)\n",
            "  139380613347840: TensorSpec(shape=(), dtype=tf.resource, name=None)\n",
            "  139380613343792: TensorSpec(shape=(), dtype=tf.resource, name=None)\n",
            "  139380613345728: TensorSpec(shape=(), dtype=tf.resource, name=None)\n",
            "  139380613344144: TensorSpec(shape=(), dtype=tf.resource, name=None)\n",
            "  139380613434528: TensorSpec(shape=(), dtype=tf.resource, name=None)\n",
            "  139380613436288: TensorSpec(shape=(), dtype=tf.resource, name=None)\n",
            "  139380613433120: TensorSpec(shape=(), dtype=tf.resource, name=None)\n",
            "  139380613435584: TensorSpec(shape=(), dtype=tf.resource, name=None)\n",
            "  139380613443152: TensorSpec(shape=(), dtype=tf.resource, name=None)\n",
            "  139380613442096: TensorSpec(shape=(), dtype=tf.resource, name=None)\n",
            "  139380613444736: TensorSpec(shape=(), dtype=tf.resource, name=None)\n",
            "  139380613432240: TensorSpec(shape=(), dtype=tf.resource, name=None)\n",
            "  139380613442624: TensorSpec(shape=(), dtype=tf.resource, name=None)\n",
            "  139380613446320: TensorSpec(shape=(), dtype=tf.resource, name=None)\n",
            "  139380613513984: TensorSpec(shape=(), dtype=tf.resource, name=None)\n",
            "  139380613513632: TensorSpec(shape=(), dtype=tf.resource, name=None)\n",
            "  139380613445616: TensorSpec(shape=(), dtype=tf.resource, name=None)\n",
            "  139380613515744: TensorSpec(shape=(), dtype=tf.resource, name=None)\n",
            "  139376121047600: TensorSpec(shape=(), dtype=tf.resource, name=None)\n",
            "  139376121042496: TensorSpec(shape=(), dtype=tf.resource, name=None)\n",
            "  139378575110944: TensorSpec(shape=(), dtype=tf.resource, name=None)\n",
            "  139378575108480: TensorSpec(shape=(), dtype=tf.resource, name=None)\n"
          ]
        }
      ]
    }
  ]
}